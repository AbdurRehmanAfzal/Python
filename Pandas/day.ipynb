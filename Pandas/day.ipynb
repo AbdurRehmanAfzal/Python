{
 "cells": [
  {
   "cell_type": "markdown",
   "metadata": {},
   "source": [
    "What is a Closure?\n",
    "A closure is a function object that remembers values in enclosing scopes even if those scopes are no longer present. Closures happen when a nested (inner) function captures and remembers variables from its containing (outer) function's environment, even after the outer function has finished executing.\n",
    "\n",
    "Components of a Closure:\n",
    "Nested function: An inner function defined inside another function.\n",
    "Free variables: Variables from the outer function used inside the nested function.\n",
    "Returned function: The inner function is returned from the outer function, holding onto the values of free variables."
   ]
  },
  {
   "cell_type": "code",
   "execution_count": 1,
   "metadata": {},
   "outputs": [],
   "source": [
    "def outerfunc(message):\n",
    "    def innerfunc():\n",
    "        print(message)\n",
    "    return innerfunc"
   ]
  },
  {
   "cell_type": "code",
   "execution_count": 4,
   "metadata": {},
   "outputs": [
    {
     "name": "stdout",
     "output_type": "stream",
     "text": [
      "welcome\n"
     ]
    }
   ],
   "source": [
    "closure_obj = outerfunc('welcome')\n",
    "closure_obj()"
   ]
  },
  {
   "cell_type": "code",
   "execution_count": 5,
   "metadata": {},
   "outputs": [],
   "source": [
    "def power(n):\n",
    "    def cal(x):\n",
    "        return x**n\n",
    "    return cal"
   ]
  },
  {
   "cell_type": "code",
   "execution_count": 7,
   "metadata": {},
   "outputs": [
    {
     "name": "stdout",
     "output_type": "stream",
     "text": [
      "4\n",
      "27\n"
     ]
    }
   ],
   "source": [
    "square = power(2)\n",
    "cube = power (3)\n",
    "\n",
    "print(square(2))\n",
    "print(cube(3))"
   ]
  },
  {
   "cell_type": "code",
   "execution_count": 13,
   "metadata": {},
   "outputs": [
    {
     "name": "stdout",
     "output_type": "stream",
     "text": [
      "1\n",
      "2\n",
      "3\n",
      "1\n"
     ]
    }
   ],
   "source": [
    "# capture the value for different function without using the globle function\n",
    "def counter():\n",
    "    count = 0\n",
    "    def increament():\n",
    "        nonlocal count\n",
    "        count += 1\n",
    "        return count\n",
    "    return increament\n",
    "\n",
    "counter1 = counter()\n",
    "print(counter1())\n",
    "print(counter1())\n",
    "print(counter1())\n",
    "\n",
    "counter2 = counter()\n",
    "print(counter2())"
   ]
  },
  {
   "cell_type": "code",
   "execution_count": 21,
   "metadata": {},
   "outputs": [
    {
     "name": "stdout",
     "output_type": "stream",
     "text": [
      "525.0\n",
      "1100.0\n"
     ]
    }
   ],
   "source": [
    "# create customized function with main function and dynamic logic with different params\n",
    "def tax_version(rate):\n",
    "    def cal_tax(amount):\n",
    "        tax = (rate / 100) * amount\n",
    "        total_tax = amount + tax\n",
    "        return total_tax\n",
    "    return cal_tax\n",
    "\n",
    "tax_5 = tax_version(5)\n",
    "tax_10 = tax_version(10)        \n",
    "\n",
    "print(tax_5(500))\n",
    "print(tax_10(1000))\n"
   ]
  },
  {
   "cell_type": "code",
   "execution_count": 24,
   "metadata": {},
   "outputs": [
    {
     "name": "stdout",
     "output_type": "stream",
     "text": [
      "100\n"
     ]
    }
   ],
   "source": [
    "# function factory\n",
    "\n",
    "def math_factory(operation):\n",
    "    def add(a, b):\n",
    "        return a + b\n",
    "    \n",
    "    def substraction(a, b):\n",
    "        return a - b\n",
    "    \n",
    "    def multiplication(a, b):\n",
    "        return a * b\n",
    "    \n",
    "    def division(a, b):\n",
    "        return a / b\n",
    "    \n",
    "    if operation == 'add':\n",
    "        return add\n",
    "\n",
    "    if operation == 'substraction':\n",
    "        return add\n",
    "    \n",
    "    if operation == 'multiplication':\n",
    "        return add\n",
    "    \n",
    "    if operation == 'division':\n",
    "        return add    \n",
    "    \n",
    "addition = math_factory('add')\n",
    "print(addition(85,15))"
   ]
  },
  {
   "cell_type": "code",
   "execution_count": null,
   "metadata": {},
   "outputs": [],
   "source": []
  }
 ],
 "metadata": {
  "kernelspec": {
   "display_name": "ai_env_py311",
   "language": "python",
   "name": "python3"
  },
  "language_info": {
   "codemirror_mode": {
    "name": "ipython",
    "version": 3
   },
   "file_extension": ".py",
   "mimetype": "text/x-python",
   "name": "python",
   "nbconvert_exporter": "python",
   "pygments_lexer": "ipython3",
   "version": "3.12.3"
  }
 },
 "nbformat": 4,
 "nbformat_minor": 2
}
