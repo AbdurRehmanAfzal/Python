{
 "cells": [
  {
   "cell_type": "markdown",
   "metadata": {},
   "source": [
    "What is a Closure?\n",
    "A closure is a function object that remembers values in enclosing scopes even if those scopes are no longer present. Closures happen when a nested (inner) function captures and remembers variables from its containing (outer) function's environment, even after the outer function has finished executing.\n",
    "\n",
    "Components of a Closure:\n",
    "Nested function: An inner function defined inside another function.\n",
    "Free variables: Variables from the outer function used inside the nested function.\n",
    "Returned function: The inner function is returned from the outer function, holding onto the values of free variables."
   ]
  },
  {
   "cell_type": "code",
   "execution_count": 1,
   "metadata": {},
   "outputs": [],
   "source": [
    "def outerfunc(message):\n",
    "    def innerfunc():\n",
    "        print(message)\n",
    "    return innerfunc"
   ]
  },
  {
   "cell_type": "code",
   "execution_count": 4,
   "metadata": {},
   "outputs": [
    {
     "name": "stdout",
     "output_type": "stream",
     "text": [
      "welcome\n"
     ]
    }
   ],
   "source": [
    "closure_obj = outerfunc('welcome')\n",
    "closure_obj()"
   ]
  },
  {
   "cell_type": "code",
   "execution_count": 5,
   "metadata": {},
   "outputs": [],
   "source": [
    "def power(n):\n",
    "    def cal(x):\n",
    "        return x**n\n",
    "    return cal"
   ]
  },
  {
   "cell_type": "code",
   "execution_count": 7,
   "metadata": {},
   "outputs": [
    {
     "name": "stdout",
     "output_type": "stream",
     "text": [
      "4\n",
      "27\n"
     ]
    }
   ],
   "source": [
    "square = power(2)\n",
    "cube = power (3)\n",
    "\n",
    "print(square(2))\n",
    "print(cube(3))"
   ]
  }
 ],
 "metadata": {
  "kernelspec": {
   "display_name": "ai_env_py311",
   "language": "python",
   "name": "python3"
  },
  "language_info": {
   "codemirror_mode": {
    "name": "ipython",
    "version": 3
   },
   "file_extension": ".py",
   "mimetype": "text/x-python",
   "name": "python",
   "nbconvert_exporter": "python",
   "pygments_lexer": "ipython3",
   "version": "3.12.3"
  }
 },
 "nbformat": 4,
 "nbformat_minor": 2
}
